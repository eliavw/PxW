{
 "cells": [
  {
   "cell_type": "markdown",
   "metadata": {},
   "source": [
    "# Fit-Predict Workflow\n",
    "\n",
    "A demonstration of how it should like."
   ]
  },
  {
   "cell_type": "markdown",
   "metadata": {},
   "source": [
    "## Preliminaries\n",
    "\n",
    "Imports and definitions"
   ]
  },
  {
   "cell_type": "code",
   "execution_count": 2,
   "metadata": {},
   "outputs": [],
   "source": [
    "import pandas as pd\n",
    "import prefect\n",
    "import PxW \n",
    "\n",
    "from prefect import Task, Flow\n",
    "from prefect.tasks.shell import ShellTask"
   ]
  },
  {
   "cell_type": "markdown",
   "metadata": {},
   "source": [
    "## Fit"
   ]
  },
  {
   "cell_type": "code",
   "execution_count": 12,
   "metadata": {},
   "outputs": [
    {
     "name": "stderr",
     "output_type": "stream",
     "text": [
      "[2019-08-26 13:42:32,987] INFO - prefect.FlowRunner | Beginning Flow run for 'fit'\n",
      "[2019-08-26 13:42:32,988] INFO - prefect.FlowRunner | Starting flow run.\n",
      "[2019-08-26 13:42:32,991] INFO - prefect.TaskRunner | Task 'Constant[str]': Starting task run...\n",
      "[2019-08-26 13:42:32,993] INFO - prefect.TaskRunner | Task 'Constant[str]': finished task run for task with final state: 'Success'\n",
      "[2019-08-26 13:42:32,994] INFO - prefect.TaskRunner | Task 'ShellTask': Starting task run...\n",
      "[2019-08-26 13:42:33,350] INFO - prefect.TaskRunner | Task 'ShellTask': finished task run for task with final state: 'Success'\n",
      "[2019-08-26 13:42:33,351] INFO - prefect.FlowRunner | Flow run SUCCESS: all reference tasks succeeded\n"
     ]
    }
   ],
   "source": [
    "weka_cmd = \"\"\"java -cp /home/elia/Software/weka/weka-3-8-3/weka.jar\"\"\"\n",
    "\n",
    "tree = \"weka.classifiers.trees.J48\"\n",
    "tree_cmd = \"\"\"{} -C 0.25 -M 2\"\"\".format(tree)\n",
    "\n",
    "model_fn = \"tree.model\"\n",
    "model_cmd = \"\"\"-d {}\"\"\".format(model_fn)\n",
    "\n",
    "data_fn = \"../data/raw/iris.arff\"\n",
    "data_cmd = \"-t {}\".format(data_fn)\n",
    "\n",
    "cmd = \"\"\"{} {} {} -no-cv {}\"\"\".format(weka_cmd, tree_cmd, data_cmd, model_cmd)\n",
    "\n",
    "shell = ShellTask()\n",
    "\n",
    "with Flow(\"fit\") as f:\n",
    "    fit = shell(command=cmd)\n",
    "\n",
    "status = f.run()"
   ]
  },
  {
   "cell_type": "code",
   "execution_count": 5,
   "metadata": {},
   "outputs": [
    {
     "name": "stdout",
     "output_type": "stream",
     "text": [
      "\n",
      "Options: -C 0.25 -M 2 \n",
      "\n",
      "=== Classifier model (full training set) ===\n",
      "\n",
      "J48 pruned tree\n",
      "------------------\n",
      "\n",
      "petal width (cm) <= 0.6: 0.0 (50.0)\n",
      "petal width (cm) > 0.6\n",
      "|   petal width (cm) <= 1.7\n",
      "|   |   petal length (cm) <= 4.9: 1.0 (48.0/1.0)\n",
      "|   |   petal length (cm) > 4.9\n",
      "|   |   |   petal width (cm) <= 1.5: 2.0 (3.0)\n",
      "|   |   |   petal width (cm) > 1.5: 1.0 (3.0/1.0)\n",
      "|   petal width (cm) > 1.7: 2.0 (46.0/1.0)\n",
      "\n",
      "Number of Leaves  : \t5\n",
      "\n",
      "Size of the tree : \t9\n",
      "\n",
      "\n",
      "Time taken to build model: 0.33 seconds\n",
      "\n",
      "Time taken to test model on training data: 0.01 seconds\n",
      "\n",
      "=== Error on training data ===\n",
      "\n",
      "Correctly Classified Instances         147               98      %\n",
      "Incorrectly Classified Instances         3                2      %\n",
      "Kappa statistic                          0.97  \n",
      "Mean absolute error                      0.0233\n",
      "Root mean squared error                  0.108 \n",
      "Relative absolute error                  5.2482 %\n",
      "Root relative squared error             22.9089 %\n",
      "Total Number of Instances              150     \n",
      "\n",
      "\n",
      "=== Detailed Accuracy By Class ===\n",
      "\n",
      "                 TP Rate  FP Rate  Precision  Recall   F-Measure  MCC      ROC Area  PRC Area  Class\n",
      "                 1.000    0.000    1.000      1.000    1.000      1.000    1.000     1.000     0.0\n",
      "                 0.980    0.020    0.961      0.980    0.970      0.955    0.990     0.969     1.0\n",
      "                 0.960    0.010    0.980      0.960    0.970      0.955    0.990     0.970     2.0\n",
      "Weighted Avg.    0.980    0.010    0.980      0.980    0.980      0.970    0.993     0.980     \n",
      "\n",
      "\n",
      "=== Confusion Matrix ===\n",
      "\n",
      "  a  b  c   <-- classified as\n",
      " 50  0  0 |  a = 0.0\n",
      "  0 49  1 |  b = 1.0\n",
      "  0  2 48 |  c = 2.0\n",
      "\n",
      "\n"
     ]
    }
   ],
   "source": [
    "print(status.result[fit].result.decode(\"utf-8\"))"
   ]
  },
  {
   "cell_type": "markdown",
   "metadata": {},
   "source": [
    "## Predict"
   ]
  },
  {
   "cell_type": "code",
   "execution_count": 6,
   "metadata": {},
   "outputs": [
    {
     "name": "stderr",
     "output_type": "stream",
     "text": [
      "[2019-08-26 11:04:02,594] INFO - prefect.FlowRunner | Beginning Flow run for 'predict'\n",
      "[2019-08-26 11:04:02,595] INFO - prefect.FlowRunner | Starting flow run.\n",
      "[2019-08-26 11:04:02,599] INFO - prefect.TaskRunner | Task 'Constant[str]': Starting task run...\n",
      "[2019-08-26 11:04:02,600] INFO - prefect.TaskRunner | Task 'Constant[str]': finished task run for task with final state: 'Success'\n",
      "[2019-08-26 11:04:02,601] INFO - prefect.TaskRunner | Task 'ShellTask': Starting task run...\n",
      "[2019-08-26 11:04:02,824] INFO - prefect.TaskRunner | Task 'ShellTask': finished task run for task with final state: 'Success'\n",
      "[2019-08-26 11:04:02,826] INFO - prefect.FlowRunner | Flow run SUCCESS: all reference tasks succeeded\n"
     ]
    }
   ],
   "source": [
    "weka_cmd = \"\"\"java -cp /home/elia/Software/weka/weka-3-8-3/weka.jar\"\"\"\n",
    "\n",
    "tree = \"weka.classifiers.trees.J48\"\n",
    "tree_cmd = \"\"\"{}\"\"\".format(tree)\n",
    "\n",
    "model_fn = \"tree.model\"\n",
    "model_cmd = \"\"\"-l {}\"\"\".format(model_fn)\n",
    "\n",
    "data_fn = \"../data/raw/iris.arff\"\n",
    "data_cmd = \"-T {}\".format(data_fn)\n",
    "\n",
    "out_fn = \"pred.csv\"\n",
    "out_cmd = \"\"\n",
    "\n",
    "cmd = \"\"\"{} {} {} {} -p 0 \"\"\".format(weka_cmd, tree_cmd, data_cmd, model_cmd)\n",
    "\n",
    "shell = ShellTask()\n",
    "\n",
    "\n",
    "# Execution\n",
    "with Flow(\"predict\") as f:\n",
    "    predict = shell(command=cmd)\n",
    "\n",
    "status = f.run()"
   ]
  },
  {
   "cell_type": "code",
   "execution_count": 8,
   "metadata": {},
   "outputs": [],
   "source": [
    "s = status.result[predict].result.decode(\"utf-8\")\n",
    "#print(s)"
   ]
  },
  {
   "cell_type": "markdown",
   "metadata": {},
   "source": [
    "### To Dataframe\n",
    "\n",
    "This output has to get into Python again"
   ]
  },
  {
   "cell_type": "code",
   "execution_count": 10,
   "metadata": {},
   "outputs": [],
   "source": [
    "from io import StringIO\n",
    "\n",
    "df = pd.read_csv(StringIO(s),\n",
    "                 index_col=0,\n",
    "                 header=1,\n",
    "                 usecols=[0,2],\n",
    "                 lineterminator='\\n',\n",
    "                 sep='\\s+')"
   ]
  },
  {
   "cell_type": "code",
   "execution_count": 11,
   "metadata": {},
   "outputs": [
    {
     "data": {
      "text/html": [
       "<div>\n",
       "<style scoped>\n",
       "    .dataframe tbody tr th:only-of-type {\n",
       "        vertical-align: middle;\n",
       "    }\n",
       "\n",
       "    .dataframe tbody tr th {\n",
       "        vertical-align: top;\n",
       "    }\n",
       "\n",
       "    .dataframe thead th {\n",
       "        text-align: right;\n",
       "    }\n",
       "</style>\n",
       "<table border=\"1\" class=\"dataframe\">\n",
       "  <thead>\n",
       "    <tr style=\"text-align: right;\">\n",
       "      <th></th>\n",
       "      <th>predicted</th>\n",
       "    </tr>\n",
       "    <tr>\n",
       "      <th>inst#</th>\n",
       "      <th></th>\n",
       "    </tr>\n",
       "  </thead>\n",
       "  <tbody>\n",
       "    <tr>\n",
       "      <th>1</th>\n",
       "      <td>1:0.0</td>\n",
       "    </tr>\n",
       "    <tr>\n",
       "      <th>2</th>\n",
       "      <td>1:0.0</td>\n",
       "    </tr>\n",
       "    <tr>\n",
       "      <th>3</th>\n",
       "      <td>1:0.0</td>\n",
       "    </tr>\n",
       "    <tr>\n",
       "      <th>4</th>\n",
       "      <td>1:0.0</td>\n",
       "    </tr>\n",
       "    <tr>\n",
       "      <th>5</th>\n",
       "      <td>1:0.0</td>\n",
       "    </tr>\n",
       "  </tbody>\n",
       "</table>\n",
       "</div>"
      ],
      "text/plain": [
       "      predicted\n",
       "inst#          \n",
       "1         1:0.0\n",
       "2         1:0.0\n",
       "3         1:0.0\n",
       "4         1:0.0\n",
       "5         1:0.0"
      ]
     },
     "execution_count": 11,
     "metadata": {},
     "output_type": "execute_result"
    }
   ],
   "source": [
    "df.head()"
   ]
  }
 ],
 "metadata": {
  "kernelspec": {
   "display_name": "PxW",
   "language": "python",
   "name": "pxw"
  },
  "language_info": {
   "codemirror_mode": {
    "name": "ipython",
    "version": 3
   },
   "file_extension": ".py",
   "mimetype": "text/x-python",
   "name": "python",
   "nbconvert_exporter": "python",
   "pygments_lexer": "ipython3",
   "version": "3.7.4"
  }
 },
 "nbformat": 4,
 "nbformat_minor": 4
}
